{
 "cells": [
  {
   "cell_type": "markdown",
   "metadata": {},
   "source": [
    "#### For running the app this file needs to be run (fully), at the end of running, the last block in jupyter notebook will generate a link address (displayed as output of the block), that link will direct to the app.\n",
    "#### The following files should be in the same folder as this file for proper import:\n",
    "##### 1).returns1.py\n",
    "##### 2) prob1.py\n",
    "##### 3) Effects1.py\n",
    "##### 4) hist1.py\n",
    "##### 5) linear_regress1.py\n",
    "##### 6) bestreturn1.py\n",
    "##### 7) compare1.py\n",
    "##### 8) homepage.py\n",
    "##### 9) navbar.py\n",
    "##### 10) ci1.py\n",
    "##### 11) rang1.py\n",
    "##### 12) help1.py"
   ]
  },
  {
   "cell_type": "markdown",
   "metadata": {},
   "source": [
    "###### Below few cells install the necessary packages for this program to run in your machine"
   ]
  },
  {
   "cell_type": "code",
   "execution_count": 22,
   "metadata": {},
   "outputs": [
    {
     "name": "stderr",
     "output_type": "stream",
     "text": [
      "WARNING: Could not parse requirement: -ornado\n",
      "WARNING: Could not parse requirement: -equests\n",
      "WARNING: Could not parse requirement: -bconvert\n"
     ]
    }
   ],
   "source": [
    "#!pip freeze > requirements.txt"
   ]
  },
  {
   "cell_type": "code",
   "execution_count": 20,
   "metadata": {},
   "outputs": [
    {
     "name": "stderr",
     "output_type": "stream",
     "text": [
      "'heroku' is not recognized as an internal or external command,\n",
      "operable program or batch file.\n"
     ]
    }
   ],
   "source": [
    "#!heroku create stock_analysis"
   ]
  },
  {
   "cell_type": "code",
   "execution_count": 18,
   "metadata": {
    "scrolled": true
   },
   "outputs": [
    {
     "name": "stdout",
     "output_type": "stream",
     "text": [
      "Requirement already satisfied: flask in c:\\programdata\\anaconda3\\lib\\site-packages (1.1.1)\n",
      "Requirement already satisfied: Werkzeug>=0.15 in c:\\programdata\\anaconda3\\lib\\site-packages (from flask) (0.15.4)\n",
      "Requirement already satisfied: itsdangerous>=0.24 in c:\\programdata\\anaconda3\\lib\\site-packages (from flask) (1.1.0)\n",
      "Requirement already satisfied: click>=5.1 in c:\\programdata\\anaconda3\\lib\\site-packages (from flask) (7.0)\n",
      "Requirement already satisfied: Jinja2>=2.10.1 in c:\\programdata\\anaconda3\\lib\\site-packages (from flask) (2.10.1)\n",
      "Requirement already satisfied: MarkupSafe>=0.23 in c:\\programdata\\anaconda3\\lib\\site-packages (from Jinja2>=2.10.1->flask) (1.1.1)\n"
     ]
    }
   ],
   "source": [
    "#!pip install flask"
   ]
  },
  {
   "cell_type": "code",
   "execution_count": 1,
   "metadata": {},
   "outputs": [
    {
     "name": "stdout",
     "output_type": "stream",
     "text": [
      "Requirement already satisfied: dash in c:\\programdata\\anaconda3\\lib\\site-packages (1.6.1)\n",
      "Requirement already satisfied: dash-table==4.5.1 in c:\\programdata\\anaconda3\\lib\\site-packages (from dash) (4.5.1)\n",
      "Requirement already satisfied: dash-renderer==1.2.1 in c:\\programdata\\anaconda3\\lib\\site-packages (from dash) (1.2.1)\n",
      "Requirement already satisfied: flask-compress in c:\\programdata\\anaconda3\\lib\\site-packages (from dash) (1.4.0)\n",
      "Requirement already satisfied: dash-core-components==1.5.1 in c:\\programdata\\anaconda3\\lib\\site-packages (from dash) (1.5.1)\n",
      "Requirement already satisfied: future in c:\\programdata\\anaconda3\\lib\\site-packages (from dash) (0.17.1)\n",
      "Requirement already satisfied: Flask>=1.0.2 in c:\\programdata\\anaconda3\\lib\\site-packages (from dash) (1.1.1)\n",
      "Requirement already satisfied: dash-html-components==1.0.2 in c:\\programdata\\anaconda3\\lib\\site-packages (from dash) (1.0.2)\n",
      "Requirement already satisfied: plotly in c:\\programdata\\anaconda3\\lib\\site-packages (from dash) (4.3.0)\n",
      "Requirement already satisfied: Werkzeug>=0.15 in c:\\programdata\\anaconda3\\lib\\site-packages (from Flask>=1.0.2->dash) (0.15.4)\n",
      "Requirement already satisfied: itsdangerous>=0.24 in c:\\programdata\\anaconda3\\lib\\site-packages (from Flask>=1.0.2->dash) (1.1.0)\n",
      "Requirement already satisfied: click>=5.1 in c:\\programdata\\anaconda3\\lib\\site-packages (from Flask>=1.0.2->dash) (7.0)\n",
      "Requirement already satisfied: Jinja2>=2.10.1 in c:\\programdata\\anaconda3\\lib\\site-packages (from Flask>=1.0.2->dash) (2.10.1)\n",
      "Requirement already satisfied: six in c:\\programdata\\anaconda3\\lib\\site-packages (from plotly->dash) (1.12.0)\n",
      "Requirement already satisfied: retrying>=1.3.3 in c:\\programdata\\anaconda3\\lib\\site-packages (from plotly->dash) (1.3.3)\n",
      "Requirement already satisfied: MarkupSafe>=0.23 in c:\\programdata\\anaconda3\\lib\\site-packages (from Jinja2>=2.10.1->Flask>=1.0.2->dash) (1.1.1)\n"
     ]
    }
   ],
   "source": [
    "#!pip install dash"
   ]
  },
  {
   "cell_type": "code",
   "execution_count": 2,
   "metadata": {},
   "outputs": [
    {
     "name": "stdout",
     "output_type": "stream",
     "text": [
      "Requirement already satisfied: dash_core_components in c:\\programdata\\anaconda3\\lib\\site-packages (1.5.1)\n"
     ]
    }
   ],
   "source": [
    "#!pip install dash_core_components"
   ]
  },
  {
   "cell_type": "code",
   "execution_count": 3,
   "metadata": {},
   "outputs": [
    {
     "name": "stdout",
     "output_type": "stream",
     "text": [
      "Requirement already satisfied: dash_html_components in c:\\programdata\\anaconda3\\lib\\site-packages (1.0.2)\n"
     ]
    }
   ],
   "source": [
    "#!pip install dash_html_components"
   ]
  },
  {
   "cell_type": "code",
   "execution_count": 4,
   "metadata": {},
   "outputs": [
    {
     "name": "stdout",
     "output_type": "stream",
     "text": [
      "Collecting dash.dependencies\n"
     ]
    },
    {
     "name": "stderr",
     "output_type": "stream",
     "text": [
      "  ERROR: Could not find a version that satisfies the requirement dash.dependencies (from versions: none)\n",
      "ERROR: No matching distribution found for dash.dependencies\n"
     ]
    }
   ],
   "source": [
    "#!pip install dash.dependencies"
   ]
  },
  {
   "cell_type": "code",
   "execution_count": 5,
   "metadata": {},
   "outputs": [
    {
     "name": "stdout",
     "output_type": "stream",
     "text": [
      "Requirement already satisfied: dash_bootstrap_components in c:\\programdata\\anaconda3\\lib\\site-packages (0.7.2)\n",
      "Requirement already satisfied: dash>=1.0.0 in c:\\programdata\\anaconda3\\lib\\site-packages (from dash_bootstrap_components) (1.6.1)\n",
      "Requirement already satisfied: dash-renderer==1.2.1 in c:\\programdata\\anaconda3\\lib\\site-packages (from dash>=1.0.0->dash_bootstrap_components) (1.2.1)\n",
      "Requirement already satisfied: dash-core-components==1.5.1 in c:\\programdata\\anaconda3\\lib\\site-packages (from dash>=1.0.0->dash_bootstrap_components) (1.5.1)\n",
      "Requirement already satisfied: flask-compress in c:\\programdata\\anaconda3\\lib\\site-packages (from dash>=1.0.0->dash_bootstrap_components) (1.4.0)\n",
      "Requirement already satisfied: Flask>=1.0.2 in c:\\programdata\\anaconda3\\lib\\site-packages (from dash>=1.0.0->dash_bootstrap_components) (1.1.1)\n",
      "Requirement already satisfied: dash-table==4.5.1 in c:\\programdata\\anaconda3\\lib\\site-packages (from dash>=1.0.0->dash_bootstrap_components) (4.5.1)\n",
      "Requirement already satisfied: plotly in c:\\programdata\\anaconda3\\lib\\site-packages (from dash>=1.0.0->dash_bootstrap_components) (4.3.0)\n",
      "Requirement already satisfied: future in c:\\programdata\\anaconda3\\lib\\site-packages (from dash>=1.0.0->dash_bootstrap_components) (0.17.1)\n",
      "Requirement already satisfied: dash-html-components==1.0.2 in c:\\programdata\\anaconda3\\lib\\site-packages (from dash>=1.0.0->dash_bootstrap_components) (1.0.2)\n",
      "Requirement already satisfied: click>=5.1 in c:\\programdata\\anaconda3\\lib\\site-packages (from Flask>=1.0.2->dash>=1.0.0->dash_bootstrap_components) (7.0)\n",
      "Requirement already satisfied: Jinja2>=2.10.1 in c:\\programdata\\anaconda3\\lib\\site-packages (from Flask>=1.0.2->dash>=1.0.0->dash_bootstrap_components) (2.10.1)\n",
      "Requirement already satisfied: Werkzeug>=0.15 in c:\\programdata\\anaconda3\\lib\\site-packages (from Flask>=1.0.2->dash>=1.0.0->dash_bootstrap_components) (0.15.4)\n",
      "Requirement already satisfied: itsdangerous>=0.24 in c:\\programdata\\anaconda3\\lib\\site-packages (from Flask>=1.0.2->dash>=1.0.0->dash_bootstrap_components) (1.1.0)\n",
      "Requirement already satisfied: six in c:\\programdata\\anaconda3\\lib\\site-packages (from plotly->dash>=1.0.0->dash_bootstrap_components) (1.12.0)\n",
      "Requirement already satisfied: retrying>=1.3.3 in c:\\programdata\\anaconda3\\lib\\site-packages (from plotly->dash>=1.0.0->dash_bootstrap_components) (1.3.3)\n",
      "Requirement already satisfied: MarkupSafe>=0.23 in c:\\programdata\\anaconda3\\lib\\site-packages (from Jinja2>=2.10.1->Flask>=1.0.2->dash>=1.0.0->dash_bootstrap_components) (1.1.1)\n"
     ]
    }
   ],
   "source": [
    "#!pip install dash_bootstrap_components"
   ]
  },
  {
   "cell_type": "code",
   "execution_count": null,
   "metadata": {},
   "outputs": [],
   "source": [
    "#!pip install pandas_datareader"
   ]
  },
  {
   "cell_type": "code",
   "execution_count": null,
   "metadata": {},
   "outputs": [],
   "source": [
    "#!pip install scipy.stats"
   ]
  },
  {
   "cell_type": "code",
   "execution_count": null,
   "metadata": {},
   "outputs": [],
   "source": [
    "#!pip install plotly"
   ]
  },
  {
   "cell_type": "code",
   "execution_count": null,
   "metadata": {},
   "outputs": [],
   "source": [
    "#!pip install dash-gif-component"
   ]
  },
  {
   "cell_type": "code",
   "execution_count": null,
   "metadata": {},
   "outputs": [],
   "source": [
    "#!pip install sklearn"
   ]
  },
  {
   "cell_type": "code",
   "execution_count": null,
   "metadata": {},
   "outputs": [],
   "source": [
    "#!pip install sklearn.linear_model"
   ]
  },
  {
   "cell_type": "code",
   "execution_count": null,
   "metadata": {},
   "outputs": [],
   "source": [
    "#!pip install plotly.express"
   ]
  },
  {
   "cell_type": "code",
   "execution_count": null,
   "metadata": {},
   "outputs": [],
   "source": [
    "#!pip install matplotlib.image"
   ]
  },
  {
   "cell_type": "code",
   "execution_count": 1,
   "metadata": {},
   "outputs": [],
   "source": [
    "import dash\n",
    "import dash_core_components as dcc\n",
    "import dash_html_components as html\n",
    "from dash.dependencies import Input, Output , State\n",
    "import dash_bootstrap_components as dbc\n",
    "from returns1 import App, update_figure\n",
    "from prob1 import App1, update_figure1\n",
    "from Effects1 import App2, update_figure2\n",
    "from hist1 import App3, update_figure3\n",
    "from linear_regress1 import App4, update_figure4\n",
    "from bestreturn1 import App5, update_figure5\n",
    "from compare1 import App6,update_figure6\n",
    "from ci1 import App7, update_figure7 \n",
    "from rang1 import App8, update_figure8\n",
    "from help1 import Help\n",
    "from homepage import Homepage"
   ]
  },
  {
   "cell_type": "code",
   "execution_count": 2,
   "metadata": {},
   "outputs": [],
   "source": [
    "app = dash.Dash(__name__, external_stylesheets=[dbc.themes.SOLAR])"
   ]
  },
  {
   "cell_type": "code",
   "execution_count": 3,
   "metadata": {},
   "outputs": [],
   "source": [
    "app.config.suppress_callback_exceptions = True"
   ]
  },
  {
   "cell_type": "code",
   "execution_count": 4,
   "metadata": {},
   "outputs": [],
   "source": [
    "app.layout = html.Div([\n",
    "    dcc.Location(id = 'url', refresh = False),\n",
    "    html.Div(id = 'page-content')\n",
    "])"
   ]
  },
  {
   "cell_type": "code",
   "execution_count": 5,
   "metadata": {},
   "outputs": [],
   "source": [
    "@app.callback(Output('page-content', 'children'),\n",
    "            [Input('url', 'pathname')])\n",
    "def display_page(pathname):\n",
    "    if pathname == '/logreturns':\n",
    "        return App()\n",
    "    elif pathname == '/probplot':\n",
    "        return App1()\n",
    "    elif pathname == '/histplot':\n",
    "        return App3()\n",
    "    elif  pathname =='/effect':\n",
    "        return App2()\n",
    "    elif pathname == '/residual':\n",
    "        return App4()\n",
    "    elif pathname == '/bestreturn':\n",
    "        return App5()\n",
    "    elif pathname == '/compare':\n",
    "        return App6()\n",
    "    elif pathname == '/population':\n",
    "        return App7()\n",
    "    elif pathname == '/range':\n",
    "        return App8()\n",
    "    elif pathname == '/help':\n",
    "        return Help()\n",
    "    else:\n",
    "        return Homepage()"
   ]
  },
  {
   "cell_type": "code",
   "execution_count": 6,
   "metadata": {},
   "outputs": [],
   "source": [
    "@app.callback(Output('r', 'children'),\n",
    "                    [Input('submit-button', 'n_clicks')],\n",
    "                    [State('my_ticker', 'value'),\n",
    "                          State('my_date_picker', 'start_date'),\n",
    "                     State('my_date_picker', 'end_date'),\n",
    "                     State('my_ticker_symbol','value'),\n",
    "                     State('confidence','value'),\n",
    "                    ])\n",
    "def update_graph8(n_clicks, value, start_date,end_date,my_ticker_symbol, confidence):\n",
    "    graph8 = update_figure8(n_clicks, value, start_date,end_date,my_ticker_symbol,confidence)\n",
    "    return graph8"
   ]
  },
  {
   "cell_type": "code",
   "execution_count": 7,
   "metadata": {},
   "outputs": [],
   "source": [
    "@app.callback(Output('out_t', 'children'),\n",
    "                    [Input('submit-button', 'n_clicks')],\n",
    "                    [State('my_ticker', 'value'),\n",
    "                          State('my_date_picker', 'start_date'),\n",
    "                     State('my_date_picker', 'end_date'),\n",
    "                     State('my_ticker_symbol1','value'),\n",
    "                     State('my_ticker_symbol2','value'),\n",
    "                    ])\n",
    "def update_graph7(n_clicks, value, start_date,end_date,my_ticker_symbol1,my_ticker_symbol2):\n",
    "    graph7 = update_figure7(n_clicks, value, start_date,end_date,my_ticker_symbol1,my_ticker_symbol2)\n",
    "    return graph7"
   ]
  },
  {
   "cell_type": "code",
   "execution_count": 8,
   "metadata": {},
   "outputs": [],
   "source": [
    "@app.callback(Output('two_plot', 'src'),\n",
    "                    [Input('submit-button', 'n_clicks')],\n",
    "                    [State('my_ticker', 'value'),\n",
    "                          State('my_date_picker', 'start_date'),\n",
    "                     State('my_date_picker', 'end_date'),\n",
    "                     State('my_ticker_symbol1','value'),\n",
    "                     State('my_ticker_symbol2','value'),\n",
    "                    ])\n",
    "def update_graph6(n_clicks, value, start_date,end_date,my_ticker_symbol1,my_ticker_symbol2):\n",
    "    graph6 = update_figure6(n_clicks, value, start_date,end_date,my_ticker_symbol1,my_ticker_symbol2)\n",
    "    return graph6"
   ]
  },
  {
   "cell_type": "code",
   "execution_count": 9,
   "metadata": {},
   "outputs": [],
   "source": [
    "@app.callback(Output('b_plot', 'src'),\n",
    "                    [Input('submit-button', 'n_clicks')],\n",
    "                    [State('my_ticker', 'value'),\n",
    "                          State('my_date_picker', 'start_date'),\n",
    "                     State('my_date_picker', 'end_date'),\n",
    "                     State('my_ticker_symbol','value'),\n",
    "                    ])\n",
    "def update_graph5(n_clicks, value, start_date,end_date,my_ticker_symbol):\n",
    "    graph5 = update_figure5(n_clicks, value, start_date,end_date,my_ticker_symbol)\n",
    "    return graph5"
   ]
  },
  {
   "cell_type": "code",
   "execution_count": 10,
   "metadata": {},
   "outputs": [],
   "source": [
    "@app.callback(Output('cur_plot', 'src'),\n",
    "                    [Input('submit-button', 'n_clicks')],\n",
    "                    [State('my_ticker', 'value'),\n",
    "                          State('my_date_picker', 'start_date'),\n",
    "                     State('my_date_picker', 'end_date'),\n",
    "                     State('my_ticker_symbol','value'),\n",
    "                    ])\n",
    "def update_graph4(n_clicks, value, start_date,end_date,my_ticker_symbol):\n",
    "    graph4 = update_figure4(n_clicks, value, start_date,end_date,my_ticker_symbol)\n",
    "    return graph4"
   ]
  },
  {
   "cell_type": "code",
   "execution_count": 11,
   "metadata": {},
   "outputs": [],
   "source": [
    "@app.callback(Output('output', 'children'),\n",
    "                    [Input('submit-button', 'n_clicks')],\n",
    "                    [State('my_ticker', 'value'),\n",
    "                          State('my_date_picker', 'start_date'),\n",
    "                     State('my_date_picker', 'end_date'),\n",
    "                     State('my_ticker_symbol','value'),\n",
    "                    ])\n",
    "def update_graph1(n_clicks, value, start_date,end_date,my_ticker_symbol):\n",
    "    graph1 = update_figure1(n_clicks, value, start_date,end_date,my_ticker_symbol)\n",
    "    return graph1\n"
   ]
  },
  {
   "cell_type": "code",
   "execution_count": 12,
   "metadata": {},
   "outputs": [],
   "source": [
    "@app.callback(Output('out', 'children'),\n",
    "                    [Input('submit-button', 'n_clicks')],\n",
    "                    [State('my_effect', 'value'),\n",
    "                        \n",
    "                    ])\n",
    "def update_graph2(n_clicks, value):\n",
    "    table1 = update_figure2(n_clicks, value)\n",
    "    return table1"
   ]
  },
  {
   "cell_type": "code",
   "execution_count": 13,
   "metadata": {},
   "outputs": [],
   "source": [
    "####r_1\n",
    "\n",
    "@app.callback(Output('graph1', 'figure'),\n",
    "                    [Input('submit-button', 'n_clicks')],\n",
    "                    [State('my_ticker', 'value'),\n",
    "                          State('my_date_picker', 'start_date'),\n",
    "                     State('my_date_picker', 'end_date'),\n",
    "                     State('my_ticker_symbol','value'),\n",
    "                     State('my_month','value')\n",
    "                    ])\n",
    "def update_graph(n_clicks, value, start_date,end_date,my_ticker_symbol,month1):\n",
    "    graph = update_figure(n_clicks, value, start_date,end_date,my_ticker_symbol,month1)\n",
    "    return graph"
   ]
  },
  {
   "cell_type": "code",
   "execution_count": 14,
   "metadata": {},
   "outputs": [],
   "source": [
    "@app.callback(Output('prob_plot', 'src'),\n",
    "                    [Input('submit-button', 'n_clicks')],\n",
    "                    [State('my_ticker', 'value'),\n",
    "                          State('my_date_picker', 'start_date'),\n",
    "                     State('my_date_picker', 'end_date'),\n",
    "                     State('my_ticker_symbol','value'),\n",
    "                    ])\n",
    "def update_graph1(n_clicks, value, start_date,end_date,my_ticker_symbol):\n",
    "    graph11 = update_figure1(n_clicks, value, start_date,end_date,my_ticker_symbol)\n",
    "    return graph11\n"
   ]
  },
  {
   "cell_type": "code",
   "execution_count": 15,
   "metadata": {},
   "outputs": [],
   "source": [
    "@app.callback(Output('hist_graph', 'children'),\n",
    "                    [Input('submit-button', 'n_clicks')],\n",
    "                    [State('my_ticker', 'value'),\n",
    "                          State('my_date_picker', 'start_date'),\n",
    "                     State('my_date_picker', 'end_date'),\n",
    "                     State('my_ticker_symbol','value'),\n",
    "                    ])\n",
    "def update_graph12(n_clicks, value, start_date,end_date,my_ticker_symbol):\n",
    "    graph12 = update_figure3(n_clicks, value, start_date,end_date,my_ticker_symbol)\n",
    "    return graph12\n"
   ]
  },
  {
   "cell_type": "code",
   "execution_count": 16,
   "metadata": {},
   "outputs": [],
   "source": [
    "#if __name__ == '__main__':\n",
    "#    app.run_server(debug=True)"
   ]
  },
  {
   "cell_type": "code",
   "execution_count": 17,
   "metadata": {},
   "outputs": [
    {
     "name": "stdout",
     "output_type": "stream",
     "text": [
      " * Serving Flask app \"__main__\" (lazy loading)\n",
      " * Environment: production\n",
      "   WARNING: This is a development server. Do not use it in a production deployment.\n",
      "   Use a production WSGI server instead.\n",
      " * Debug mode: off\n"
     ]
    },
    {
     "name": "stderr",
     "output_type": "stream",
     "text": [
      " * Running on http://127.0.0.1:8017/ (Press CTRL+C to quit)\n",
      "127.0.0.1 - - [17/May/2020 17:11:24] \"\u001b[37mGET / HTTP/1.1\u001b[0m\" 200 -\n",
      "127.0.0.1 - - [17/May/2020 17:11:24] \"\u001b[37mGET /_dash-component-suites/dash_renderer/polyfill@7.v1_2_0m1574825930.7.0.min.js HTTP/1.1\u001b[0m\" 200 -\n",
      "127.0.0.1 - - [17/May/2020 17:11:24] \"\u001b[37mGET /_dash-component-suites/dash_renderer/react@16.v1_2_0m1574825930.8.6.min.js HTTP/1.1\u001b[0m\" 200 -\n",
      "127.0.0.1 - - [17/May/2020 17:11:24] \"\u001b[37mGET /_dash-component-suites/dash_renderer/prop-types@15.v1_2_0m1574825930.7.2.min.js HTTP/1.1\u001b[0m\" 200 -\n",
      "127.0.0.1 - - [17/May/2020 17:11:24] \"\u001b[37mGET /_dash-component-suites/dash_renderer/react-dom@16.v1_2_0m1574825930.8.6.min.js HTTP/1.1\u001b[0m\" 200 -\n",
      "127.0.0.1 - - [17/May/2020 17:11:24] \"\u001b[37mGET /_dash-component-suites/dash_html_components/dash_html_components.v1_0_2m1574825949.min.js HTTP/1.1\u001b[0m\" 200 -\n",
      "127.0.0.1 - - [17/May/2020 17:11:24] \"\u001b[37mGET /_dash-component-suites/dash_bootstrap_components/_components/dash_bootstrap_components.v0_7_2m1575130700.min.js HTTP/1.1\u001b[0m\" 200 -\n",
      "127.0.0.1 - - [17/May/2020 17:11:24] \"\u001b[37mGET /_dash-component-suites/dash_gif_component/dash_gif_component.v1_0_2m1575617346.min.js HTTP/1.1\u001b[0m\" 200 -\n",
      "127.0.0.1 - - [17/May/2020 17:11:24] \"\u001b[37mGET /_dash-component-suites/dash_core_components/highlight.v1_5_1m1574825941.pack.js HTTP/1.1\u001b[0m\" 200 -\n",
      "127.0.0.1 - - [17/May/2020 17:11:24] \"\u001b[37mGET /_dash-component-suites/dash_renderer/dash_renderer.v1_2_0m1574825930.min.js HTTP/1.1\u001b[0m\" 200 -\n",
      "127.0.0.1 - - [17/May/2020 17:11:24] \"\u001b[37mGET /_dash-component-suites/dash_core_components/dash_core_components.v1_5_1m1574825941.min.js HTTP/1.1\u001b[0m\" 200 -\n",
      "127.0.0.1 - - [17/May/2020 17:11:24] \"\u001b[37mGET /_dash-layout HTTP/1.1\u001b[0m\" 200 -\n",
      "127.0.0.1 - - [17/May/2020 17:11:24] \"\u001b[37mGET /_dash-dependencies HTTP/1.1\u001b[0m\" 200 -\n",
      "127.0.0.1 - - [17/May/2020 17:11:24] \"\u001b[37mGET /_favicon.ico?v=1.6.1 HTTP/1.1\u001b[0m\" 200 -\n",
      "127.0.0.1 - - [17/May/2020 17:11:24] \"\u001b[37mPOST /_dash-update-component HTTP/1.1\u001b[0m\" 200 -\n",
      "127.0.0.1 - - [17/May/2020 17:11:24] \"\u001b[37mPOST /_dash-update-component HTTP/1.1\u001b[0m\" 200 -\n",
      "127.0.0.1 - - [17/May/2020 17:11:32] \"\u001b[37mPOST /_dash-update-component HTTP/1.1\u001b[0m\" 200 -\n",
      "127.0.0.1 - - [17/May/2020 17:11:36] \"\u001b[37mPOST /_dash-update-component HTTP/1.1\u001b[0m\" 200 -\n",
      "127.0.0.1 - - [17/May/2020 17:11:36] \"\u001b[37mGET /_dash-component-suites/dash_core_components/async~markdown.v1_5_1m1573761749.js HTTP/1.1\u001b[0m\" 200 -\n",
      "127.0.0.1 - - [17/May/2020 17:11:36] \"\u001b[37mGET /_dash-component-suites/dash_core_components/async~dropdown.v1_5_1m1573761749.js HTTP/1.1\u001b[0m\" 200 -\n",
      "127.0.0.1 - - [17/May/2020 17:11:37] \"\u001b[37mGET /_dash-component-suites/dash_core_components/async~datepicker.v1_5_1m1573761749.js HTTP/1.1\u001b[0m\" 200 -\n",
      "127.0.0.1 - - [17/May/2020 17:11:39] \"\u001b[37mPOST /_dash-update-component HTTP/1.1\u001b[0m\" 200 -\n",
      "127.0.0.1 - - [17/May/2020 17:11:41] \"\u001b[37mPOST /_dash-update-component HTTP/1.1\u001b[0m\" 200 -\n",
      "127.0.0.1 - - [17/May/2020 17:11:47] \"\u001b[37mPOST /_dash-update-component HTTP/1.1\u001b[0m\" 200 -\n",
      "127.0.0.1 - - [17/May/2020 17:11:47] \"\u001b[37mPOST /_dash-update-component HTTP/1.1\u001b[0m\" 200 -\n",
      "127.0.0.1 - - [17/May/2020 17:11:51] \"\u001b[37mPOST /_dash-update-component HTTP/1.1\u001b[0m\" 200 -\n",
      "127.0.0.1 - - [17/May/2020 17:11:57] \"\u001b[37mPOST /_dash-update-component HTTP/1.1\u001b[0m\" 200 -\n",
      "127.0.0.1 - - [17/May/2020 17:12:01] \"\u001b[37mPOST /_dash-update-component HTTP/1.1\u001b[0m\" 200 -\n",
      "127.0.0.1 - - [17/May/2020 17:12:03] \"\u001b[37mPOST /_dash-update-component HTTP/1.1\u001b[0m\" 200 -\n",
      "127.0.0.1 - - [17/May/2020 17:12:06] \"\u001b[37mPOST /_dash-update-component HTTP/1.1\u001b[0m\" 200 -\n",
      "127.0.0.1 - - [17/May/2020 17:12:07] \"\u001b[37mPOST /_dash-update-component HTTP/1.1\u001b[0m\" 200 -\n",
      "127.0.0.1 - - [17/May/2020 17:12:18] \"\u001b[37mPOST /_dash-update-component HTTP/1.1\u001b[0m\" 200 -\n",
      "127.0.0.1 - - [17/May/2020 17:12:20] \"\u001b[37mPOST /_dash-update-component HTTP/1.1\u001b[0m\" 200 -\n",
      "127.0.0.1 - - [17/May/2020 17:12:27] \"\u001b[37mPOST /_dash-update-component HTTP/1.1\u001b[0m\" 200 -\n",
      "127.0.0.1 - - [17/May/2020 17:12:40] \"\u001b[37mPOST /_dash-update-component HTTP/1.1\u001b[0m\" 200 -\n",
      "127.0.0.1 - - [17/May/2020 17:12:46] \"\u001b[37mPOST /_dash-update-component HTTP/1.1\u001b[0m\" 200 -\n",
      "127.0.0.1 - - [17/May/2020 17:12:46] \"\u001b[37mGET /_dash-component-suites/dash_core_components/async~plotlyjs.v1_5_1m1573761749.js HTTP/1.1\u001b[0m\" 200 -\n",
      "127.0.0.1 - - [17/May/2020 17:12:47] \"\u001b[37mGET /_dash-component-suites/dash_core_components/async~graph.v1_5_1m1573761749.js HTTP/1.1\u001b[0m\" 200 -\n",
      "127.0.0.1 - - [17/May/2020 17:12:47] \"\u001b[37mPOST /_dash-update-component HTTP/1.1\u001b[0m\" 200 -\n",
      "127.0.0.1 - - [17/May/2020 17:12:56] \"\u001b[37mPOST /_dash-update-component HTTP/1.1\u001b[0m\" 200 -\n",
      "127.0.0.1 - - [17/May/2020 17:13:02] \"\u001b[37mPOST /_dash-update-component HTTP/1.1\u001b[0m\" 200 -\n",
      "127.0.0.1 - - [17/May/2020 17:13:04] \"\u001b[37mPOST /_dash-update-component HTTP/1.1\u001b[0m\" 200 -\n"
     ]
    },
    {
     "name": "stdout",
     "output_type": "stream",
     "text": [
      "Exception on /_dash-update-component [POST]\n",
      "Traceback (most recent call last):\n",
      "  File \"C:\\ProgramData\\Anaconda3\\lib\\site-packages\\pandas\\core\\indexes\\base.py\", line 2657, in get_loc\n",
      "    return self._engine.get_loc(key)\n",
      "  File \"pandas/_libs/index.pyx\", line 108, in pandas._libs.index.IndexEngine.get_loc\n",
      "  File \"pandas/_libs/index.pyx\", line 132, in pandas._libs.index.IndexEngine.get_loc\n",
      "  File \"pandas/_libs/hashtable_class_helper.pxi\", line 1601, in pandas._libs.hashtable.PyObjectHashTable.get_item\n",
      "  File \"pandas/_libs/hashtable_class_helper.pxi\", line 1608, in pandas._libs.hashtable.PyObjectHashTable.get_item\n",
      "KeyError: 'BAC_returns'\n",
      "\n",
      "During handling of the above exception, another exception occurred:\n",
      "\n",
      "Traceback (most recent call last):\n",
      "  File \"C:\\ProgramData\\Anaconda3\\lib\\site-packages\\flask\\app.py\", line 2446, in wsgi_app\n",
      "    response = self.full_dispatch_request()\n",
      "  File \"C:\\ProgramData\\Anaconda3\\lib\\site-packages\\flask\\app.py\", line 1951, in full_dispatch_request\n",
      "    rv = self.handle_user_exception(e)\n",
      "  File \"C:\\ProgramData\\Anaconda3\\lib\\site-packages\\flask\\app.py\", line 1820, in handle_user_exception\n",
      "    reraise(exc_type, exc_value, tb)\n",
      "  File \"C:\\ProgramData\\Anaconda3\\lib\\site-packages\\flask\\_compat.py\", line 39, in reraise\n",
      "    raise value\n",
      "  File \"C:\\ProgramData\\Anaconda3\\lib\\site-packages\\flask\\app.py\", line 1949, in full_dispatch_request\n",
      "    rv = self.dispatch_request()\n",
      "  File \"C:\\ProgramData\\Anaconda3\\lib\\site-packages\\flask\\app.py\", line 1935, in dispatch_request\n",
      "    return self.view_functions[rule.endpoint](**req.view_args)\n",
      "  File \"C:\\ProgramData\\Anaconda3\\lib\\site-packages\\dash\\dash.py\", line 1404, in dispatch\n",
      "    response.set_data(self.callback_map[output][\"callback\"](*args))\n",
      "  File \"C:\\ProgramData\\Anaconda3\\lib\\site-packages\\dash\\dash.py\", line 1284, in add_context\n",
      "    output_value = func(*args, **kwargs)  # %% callback invoked %%\n",
      "  File \"<ipython-input-8-4d546aab47b3>\", line 10, in update_graph6\n",
      "    graph6 = update_figure6(n_clicks, value, start_date,end_date,my_ticker_symbol1,my_ticker_symbol2)\n",
      "  File \"C:\\Users\\mdgos\\Desktop\\Columbia files_sem1\\Prob\\Project\\fin_project\\Web_App\\compare1.py\", line 241, in update_figure6\n",
      "    Y = dataLogReturns[j].values.reshape(-1, 1)  # -1 means that calculate the dimension of rows, but have 1 column\n",
      "  File \"C:\\ProgramData\\Anaconda3\\lib\\site-packages\\pandas\\core\\frame.py\", line 2927, in __getitem__\n",
      "    indexer = self.columns.get_loc(key)\n",
      "  File \"C:\\ProgramData\\Anaconda3\\lib\\site-packages\\pandas\\core\\indexes\\base.py\", line 2659, in get_loc\n",
      "    return self._engine.get_loc(self._maybe_cast_indexer(key))\n",
      "  File \"pandas/_libs/index.pyx\", line 108, in pandas._libs.index.IndexEngine.get_loc\n",
      "  File \"pandas/_libs/index.pyx\", line 132, in pandas._libs.index.IndexEngine.get_loc\n",
      "  File \"pandas/_libs/hashtable_class_helper.pxi\", line 1601, in pandas._libs.hashtable.PyObjectHashTable.get_item\n",
      "  File \"pandas/_libs/hashtable_class_helper.pxi\", line 1608, in pandas._libs.hashtable.PyObjectHashTable.get_item\n",
      "KeyError: 'BAC_returns'\n"
     ]
    },
    {
     "name": "stderr",
     "output_type": "stream",
     "text": [
      "127.0.0.1 - - [17/May/2020 17:13:14] \"\u001b[1m\u001b[35mPOST /_dash-update-component HTTP/1.1\u001b[0m\" 500 -\n",
      "127.0.0.1 - - [17/May/2020 17:14:33] \"\u001b[37mPOST /_dash-update-component HTTP/1.1\u001b[0m\" 200 -\n",
      "127.0.0.1 - - [17/May/2020 17:14:41] \"\u001b[37mPOST /_dash-update-component HTTP/1.1\u001b[0m\" 200 -\n",
      "127.0.0.1 - - [17/May/2020 17:14:44] \"\u001b[37mPOST /_dash-update-component HTTP/1.1\u001b[0m\" 200 -\n",
      "127.0.0.1 - - [17/May/2020 17:14:47] \"\u001b[37mPOST /_dash-update-component HTTP/1.1\u001b[0m\" 200 -\n"
     ]
    },
    {
     "name": "stdout",
     "output_type": "stream",
     "text": [
      "Exception on /_dash-update-component [POST]\n",
      "Traceback (most recent call last):\n",
      "  File \"C:\\ProgramData\\Anaconda3\\lib\\site-packages\\flask\\app.py\", line 2446, in wsgi_app\n",
      "    response = self.full_dispatch_request()\n",
      "  File \"C:\\ProgramData\\Anaconda3\\lib\\site-packages\\flask\\app.py\", line 1951, in full_dispatch_request\n",
      "    rv = self.handle_user_exception(e)\n",
      "  File \"C:\\ProgramData\\Anaconda3\\lib\\site-packages\\flask\\app.py\", line 1820, in handle_user_exception\n",
      "    reraise(exc_type, exc_value, tb)\n",
      "  File \"C:\\ProgramData\\Anaconda3\\lib\\site-packages\\flask\\_compat.py\", line 39, in reraise\n",
      "    raise value\n",
      "  File \"C:\\ProgramData\\Anaconda3\\lib\\site-packages\\flask\\app.py\", line 1949, in full_dispatch_request\n",
      "    rv = self.dispatch_request()\n",
      "  File \"C:\\ProgramData\\Anaconda3\\lib\\site-packages\\flask\\app.py\", line 1935, in dispatch_request\n",
      "    return self.view_functions[rule.endpoint](**req.view_args)\n",
      "  File \"C:\\ProgramData\\Anaconda3\\lib\\site-packages\\dash\\dash.py\", line 1404, in dispatch\n",
      "    response.set_data(self.callback_map[output][\"callback\"](*args))\n",
      "  File \"C:\\ProgramData\\Anaconda3\\lib\\site-packages\\dash\\dash.py\", line 1284, in add_context\n",
      "    output_value = func(*args, **kwargs)  # %% callback invoked %%\n",
      "  File \"<ipython-input-6-55cd41f3d1b6>\", line 10, in update_graph8\n",
      "    graph8 = update_figure8(n_clicks, value, start_date,end_date,my_ticker_symbol,confidence)\n",
      "  File \"C:\\Users\\mdgos\\Desktop\\Columbia files_sem1\\Prob\\Project\\fin_project\\Web_App\\rang1.py\", line 245, in update_figure8\n",
      "    res_mean, res_var, res_std = stats.bayes_mvs(dataLogReturns[i], alpha=confidence)\n",
      "  File \"C:\\ProgramData\\Anaconda3\\lib\\site-packages\\scipy\\stats\\morestats.py\", line 130, in bayes_mvs\n",
      "    % alpha)\n",
      "ValueError: 0 < alpha < 1 is required, but alpha=2.95 was given.\n"
     ]
    },
    {
     "name": "stderr",
     "output_type": "stream",
     "text": [
      "127.0.0.1 - - [17/May/2020 17:14:57] \"\u001b[1m\u001b[35mPOST /_dash-update-component HTTP/1.1\u001b[0m\" 500 -\n",
      "127.0.0.1 - - [17/May/2020 17:15:02] \"\u001b[37mPOST /_dash-update-component HTTP/1.1\u001b[0m\" 200 -\n",
      "127.0.0.1 - - [17/May/2020 17:15:02] \"\u001b[37mPOST /_dash-update-component HTTP/1.1\u001b[0m\" 200 -\n",
      "127.0.0.1 - - [17/May/2020 17:15:05] \"\u001b[37mPOST /_dash-update-component HTTP/1.1\u001b[0m\" 200 -\n",
      "127.0.0.1 - - [17/May/2020 17:15:08] \"\u001b[37mPOST /_dash-update-component HTTP/1.1\u001b[0m\" 200 -\n",
      "127.0.0.1 - - [17/May/2020 17:15:11] \"\u001b[37mPOST /_dash-update-component HTTP/1.1\u001b[0m\" 200 -\n",
      "127.0.0.1 - - [17/May/2020 17:15:13] \"\u001b[37mPOST /_dash-update-component HTTP/1.1\u001b[0m\" 200 -\n",
      "127.0.0.1 - - [17/May/2020 17:15:18] \"\u001b[37mPOST /_dash-update-component HTTP/1.1\u001b[0m\" 200 -\n",
      "127.0.0.1 - - [17/May/2020 17:15:20] \"\u001b[37mPOST /_dash-update-component HTTP/1.1\u001b[0m\" 200 -\n",
      "127.0.0.1 - - [17/May/2020 17:15:34] \"\u001b[37mPOST /_dash-update-component HTTP/1.1\u001b[0m\" 200 -\n",
      "127.0.0.1 - - [17/May/2020 17:15:43] \"\u001b[37mPOST /_dash-update-component HTTP/1.1\u001b[0m\" 200 -\n",
      "127.0.0.1 - - [17/May/2020 17:15:45] \"\u001b[37mPOST /_dash-update-component HTTP/1.1\u001b[0m\" 200 -\n",
      "127.0.0.1 - - [17/May/2020 17:15:56] \"\u001b[37mPOST /_dash-update-component HTTP/1.1\u001b[0m\" 200 -\n",
      "127.0.0.1 - - [17/May/2020 17:16:02] \"\u001b[37mPOST /_dash-update-component HTTP/1.1\u001b[0m\" 200 -\n",
      "127.0.0.1 - - [17/May/2020 17:16:03] \"\u001b[37mPOST /_dash-update-component HTTP/1.1\u001b[0m\" 200 -\n",
      "127.0.0.1 - - [17/May/2020 17:16:07] \"\u001b[37mPOST /_dash-update-component HTTP/1.1\u001b[0m\" 200 -\n",
      "127.0.0.1 - - [17/May/2020 17:16:09] \"\u001b[37mPOST /_dash-update-component HTTP/1.1\u001b[0m\" 200 -\n",
      "127.0.0.1 - - [17/May/2020 17:16:14] \"\u001b[37mPOST /_dash-update-component HTTP/1.1\u001b[0m\" 200 -\n",
      "127.0.0.1 - - [17/May/2020 17:16:16] \"\u001b[37mPOST /_dash-update-component HTTP/1.1\u001b[0m\" 200 -\n",
      "127.0.0.1 - - [17/May/2020 17:16:21] \"\u001b[37mPOST /_dash-update-component HTTP/1.1\u001b[0m\" 200 -\n",
      "127.0.0.1 - - [17/May/2020 17:16:24] \"\u001b[37mPOST /_dash-update-component HTTP/1.1\u001b[0m\" 200 -\n",
      "127.0.0.1 - - [17/May/2020 17:16:30] \"\u001b[37mPOST /_dash-update-component HTTP/1.1\u001b[0m\" 200 -\n"
     ]
    }
   ],
   "source": [
    "if __name__ == \"__main__\":\n",
    "    app.run_server(port=8017)"
   ]
  },
  {
   "cell_type": "code",
   "execution_count": null,
   "metadata": {},
   "outputs": [],
   "source": []
  },
  {
   "cell_type": "code",
   "execution_count": null,
   "metadata": {},
   "outputs": [],
   "source": []
  }
 ],
 "metadata": {
  "kernelspec": {
   "display_name": "Python 3",
   "language": "python",
   "name": "python3"
  },
  "language_info": {
   "codemirror_mode": {
    "name": "ipython",
    "version": 3
   },
   "file_extension": ".py",
   "mimetype": "text/x-python",
   "name": "python",
   "nbconvert_exporter": "python",
   "pygments_lexer": "ipython3",
   "version": "3.7.3"
  }
 },
 "nbformat": 4,
 "nbformat_minor": 2
}
